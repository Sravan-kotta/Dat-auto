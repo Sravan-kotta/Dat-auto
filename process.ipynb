{
 "cells": [
  {
   "cell_type": "code",
   "execution_count": 2,
   "metadata": {},
   "outputs": [],
   "source": [
    "# Import libraries\n",
    "import numpy as np\n",
    "import pandas as pd\n",
    "import seaborn as sns\n",
    "import matplotlib.pyplot as plt\n",
    "import plotly.express as px\n",
    "from sklearn.ensemble import IsolationForest\n",
    "from sklearn.preprocessing import StandardScaler\n",
    "from sklearn.decomposition import PCA\n",
    "import ipywidgets\n",
    "from pycaret.classification import setup, compare_models, pull, save_model\n"
   ]
  },
  {
   "cell_type": "code",
   "execution_count": 49,
   "metadata": {},
   "outputs": [],
   "source": [
    "%matplotlib inline"
   ]
  },
  {
   "cell_type": "code",
   "execution_count": 45,
   "metadata": {},
   "outputs": [
    {
     "name": "stdout",
     "output_type": "stream",
     "text": [
      "Requirement already satisfied: PyQt5 in c:\\users\\srava\\appdata\\local\\programs\\python\\python311\\lib\\site-packages (5.15.10)\n",
      "Requirement already satisfied: PyQt5-sip<13,>=12.13 in c:\\users\\srava\\appdata\\local\\programs\\python\\python311\\lib\\site-packages (from PyQt5) (12.13.0)\n",
      "Requirement already satisfied: PyQt5-Qt5>=5.15.2 in c:\\users\\srava\\appdata\\local\\programs\\python\\python311\\lib\\site-packages (from PyQt5) (5.15.2)\n"
     ]
    },
    {
     "name": "stderr",
     "output_type": "stream",
     "text": [
      "\n",
      "[notice] A new release of pip is available: 23.2.1 -> 24.0\n",
      "[notice] To update, run: python.exe -m pip install --upgrade pip\n"
     ]
    }
   ],
   "source": [
    "!pip install PyQt5"
   ]
  },
  {
   "cell_type": "code",
   "execution_count": 11,
   "metadata": {},
   "outputs": [],
   "source": [
    "def preprocess_pca(data,target):\n",
    "    clf1 = setup(data = data, target = target, pca = True, pca_components = 2)\n",
    "    # Standardize features\n",
    "    pca_df = clf1.dataset_transformed\n",
    "    return pca_df"
   ]
  },
  {
   "cell_type": "code",
   "execution_count": 12,
   "metadata": {},
   "outputs": [],
   "source": [
    "def isolation_forest_visual(w):\n",
    "    # Standardize features\n",
    "    isf = IsolationForest(contamination=w)\n",
    "    isf.fit(pca)\n",
    "    predictions = isf.predict(pca)\n",
    "    pca[\"iso_forest_outliers\"] = predictions\n",
    "    colors = {1: 'b', -1: 'r'}\n",
    "    plt.scatter(pca['pca0'], pca['pca1'], color=[colors[r] for r in pca['iso_forest_outliers']])\n",
    "    "
   ]
  },
  {
   "cell_type": "code",
   "execution_count": 13,
   "metadata": {},
   "outputs": [],
   "source": [
    "def iforest_visual():\n",
    "    ipywidgets.interact(isolation_forest_visual,w=(0.001, 0.5, 0.01))"
   ]
  },
  {
   "cell_type": "code",
   "execution_count": 14,
   "metadata": {},
   "outputs": [
    {
     "data": {
      "text/html": [
       "<style type=\"text/css\">\n",
       "#T_86af9_row8_col1, #T_86af9_row12_col1 {\n",
       "  background-color: lightgreen;\n",
       "}\n",
       "</style>\n",
       "<table id=\"T_86af9\">\n",
       "  <thead>\n",
       "    <tr>\n",
       "      <th class=\"blank level0\" >&nbsp;</th>\n",
       "      <th id=\"T_86af9_level0_col0\" class=\"col_heading level0 col0\" >Description</th>\n",
       "      <th id=\"T_86af9_level0_col1\" class=\"col_heading level0 col1\" >Value</th>\n",
       "    </tr>\n",
       "  </thead>\n",
       "  <tbody>\n",
       "    <tr>\n",
       "      <th id=\"T_86af9_level0_row0\" class=\"row_heading level0 row0\" >0</th>\n",
       "      <td id=\"T_86af9_row0_col0\" class=\"data row0 col0\" >Session id</td>\n",
       "      <td id=\"T_86af9_row0_col1\" class=\"data row0 col1\" >3881</td>\n",
       "    </tr>\n",
       "    <tr>\n",
       "      <th id=\"T_86af9_level0_row1\" class=\"row_heading level0 row1\" >1</th>\n",
       "      <td id=\"T_86af9_row1_col0\" class=\"data row1 col0\" >Target</td>\n",
       "      <td id=\"T_86af9_row1_col1\" class=\"data row1 col1\" >Outcome</td>\n",
       "    </tr>\n",
       "    <tr>\n",
       "      <th id=\"T_86af9_level0_row2\" class=\"row_heading level0 row2\" >2</th>\n",
       "      <td id=\"T_86af9_row2_col0\" class=\"data row2 col0\" >Target type</td>\n",
       "      <td id=\"T_86af9_row2_col1\" class=\"data row2 col1\" >Binary</td>\n",
       "    </tr>\n",
       "    <tr>\n",
       "      <th id=\"T_86af9_level0_row3\" class=\"row_heading level0 row3\" >3</th>\n",
       "      <td id=\"T_86af9_row3_col0\" class=\"data row3 col0\" >Original data shape</td>\n",
       "      <td id=\"T_86af9_row3_col1\" class=\"data row3 col1\" >(768, 9)</td>\n",
       "    </tr>\n",
       "    <tr>\n",
       "      <th id=\"T_86af9_level0_row4\" class=\"row_heading level0 row4\" >4</th>\n",
       "      <td id=\"T_86af9_row4_col0\" class=\"data row4 col0\" >Transformed data shape</td>\n",
       "      <td id=\"T_86af9_row4_col1\" class=\"data row4 col1\" >(768, 3)</td>\n",
       "    </tr>\n",
       "    <tr>\n",
       "      <th id=\"T_86af9_level0_row5\" class=\"row_heading level0 row5\" >5</th>\n",
       "      <td id=\"T_86af9_row5_col0\" class=\"data row5 col0\" >Transformed train set shape</td>\n",
       "      <td id=\"T_86af9_row5_col1\" class=\"data row5 col1\" >(537, 3)</td>\n",
       "    </tr>\n",
       "    <tr>\n",
       "      <th id=\"T_86af9_level0_row6\" class=\"row_heading level0 row6\" >6</th>\n",
       "      <td id=\"T_86af9_row6_col0\" class=\"data row6 col0\" >Transformed test set shape</td>\n",
       "      <td id=\"T_86af9_row6_col1\" class=\"data row6 col1\" >(231, 3)</td>\n",
       "    </tr>\n",
       "    <tr>\n",
       "      <th id=\"T_86af9_level0_row7\" class=\"row_heading level0 row7\" >7</th>\n",
       "      <td id=\"T_86af9_row7_col0\" class=\"data row7 col0\" >Numeric features</td>\n",
       "      <td id=\"T_86af9_row7_col1\" class=\"data row7 col1\" >8</td>\n",
       "    </tr>\n",
       "    <tr>\n",
       "      <th id=\"T_86af9_level0_row8\" class=\"row_heading level0 row8\" >8</th>\n",
       "      <td id=\"T_86af9_row8_col0\" class=\"data row8 col0\" >Preprocess</td>\n",
       "      <td id=\"T_86af9_row8_col1\" class=\"data row8 col1\" >True</td>\n",
       "    </tr>\n",
       "    <tr>\n",
       "      <th id=\"T_86af9_level0_row9\" class=\"row_heading level0 row9\" >9</th>\n",
       "      <td id=\"T_86af9_row9_col0\" class=\"data row9 col0\" >Imputation type</td>\n",
       "      <td id=\"T_86af9_row9_col1\" class=\"data row9 col1\" >simple</td>\n",
       "    </tr>\n",
       "    <tr>\n",
       "      <th id=\"T_86af9_level0_row10\" class=\"row_heading level0 row10\" >10</th>\n",
       "      <td id=\"T_86af9_row10_col0\" class=\"data row10 col0\" >Numeric imputation</td>\n",
       "      <td id=\"T_86af9_row10_col1\" class=\"data row10 col1\" >mean</td>\n",
       "    </tr>\n",
       "    <tr>\n",
       "      <th id=\"T_86af9_level0_row11\" class=\"row_heading level0 row11\" >11</th>\n",
       "      <td id=\"T_86af9_row11_col0\" class=\"data row11 col0\" >Categorical imputation</td>\n",
       "      <td id=\"T_86af9_row11_col1\" class=\"data row11 col1\" >mode</td>\n",
       "    </tr>\n",
       "    <tr>\n",
       "      <th id=\"T_86af9_level0_row12\" class=\"row_heading level0 row12\" >12</th>\n",
       "      <td id=\"T_86af9_row12_col0\" class=\"data row12 col0\" >PCA</td>\n",
       "      <td id=\"T_86af9_row12_col1\" class=\"data row12 col1\" >True</td>\n",
       "    </tr>\n",
       "    <tr>\n",
       "      <th id=\"T_86af9_level0_row13\" class=\"row_heading level0 row13\" >13</th>\n",
       "      <td id=\"T_86af9_row13_col0\" class=\"data row13 col0\" >PCA method</td>\n",
       "      <td id=\"T_86af9_row13_col1\" class=\"data row13 col1\" >linear</td>\n",
       "    </tr>\n",
       "    <tr>\n",
       "      <th id=\"T_86af9_level0_row14\" class=\"row_heading level0 row14\" >14</th>\n",
       "      <td id=\"T_86af9_row14_col0\" class=\"data row14 col0\" >PCA components</td>\n",
       "      <td id=\"T_86af9_row14_col1\" class=\"data row14 col1\" >2</td>\n",
       "    </tr>\n",
       "    <tr>\n",
       "      <th id=\"T_86af9_level0_row15\" class=\"row_heading level0 row15\" >15</th>\n",
       "      <td id=\"T_86af9_row15_col0\" class=\"data row15 col0\" >Fold Generator</td>\n",
       "      <td id=\"T_86af9_row15_col1\" class=\"data row15 col1\" >StratifiedKFold</td>\n",
       "    </tr>\n",
       "    <tr>\n",
       "      <th id=\"T_86af9_level0_row16\" class=\"row_heading level0 row16\" >16</th>\n",
       "      <td id=\"T_86af9_row16_col0\" class=\"data row16 col0\" >Fold Number</td>\n",
       "      <td id=\"T_86af9_row16_col1\" class=\"data row16 col1\" >10</td>\n",
       "    </tr>\n",
       "    <tr>\n",
       "      <th id=\"T_86af9_level0_row17\" class=\"row_heading level0 row17\" >17</th>\n",
       "      <td id=\"T_86af9_row17_col0\" class=\"data row17 col0\" >CPU Jobs</td>\n",
       "      <td id=\"T_86af9_row17_col1\" class=\"data row17 col1\" >-1</td>\n",
       "    </tr>\n",
       "    <tr>\n",
       "      <th id=\"T_86af9_level0_row18\" class=\"row_heading level0 row18\" >18</th>\n",
       "      <td id=\"T_86af9_row18_col0\" class=\"data row18 col0\" >Use GPU</td>\n",
       "      <td id=\"T_86af9_row18_col1\" class=\"data row18 col1\" >False</td>\n",
       "    </tr>\n",
       "    <tr>\n",
       "      <th id=\"T_86af9_level0_row19\" class=\"row_heading level0 row19\" >19</th>\n",
       "      <td id=\"T_86af9_row19_col0\" class=\"data row19 col0\" >Log Experiment</td>\n",
       "      <td id=\"T_86af9_row19_col1\" class=\"data row19 col1\" >False</td>\n",
       "    </tr>\n",
       "    <tr>\n",
       "      <th id=\"T_86af9_level0_row20\" class=\"row_heading level0 row20\" >20</th>\n",
       "      <td id=\"T_86af9_row20_col0\" class=\"data row20 col0\" >Experiment Name</td>\n",
       "      <td id=\"T_86af9_row20_col1\" class=\"data row20 col1\" >clf-default-name</td>\n",
       "    </tr>\n",
       "    <tr>\n",
       "      <th id=\"T_86af9_level0_row21\" class=\"row_heading level0 row21\" >21</th>\n",
       "      <td id=\"T_86af9_row21_col0\" class=\"data row21 col0\" >USI</td>\n",
       "      <td id=\"T_86af9_row21_col1\" class=\"data row21 col1\" >e1e8</td>\n",
       "    </tr>\n",
       "  </tbody>\n",
       "</table>\n"
      ],
      "text/plain": [
       "<pandas.io.formats.style.Styler at 0x19cb678ec10>"
      ]
     },
     "metadata": {},
     "output_type": "display_data"
    },
    {
     "data": {
      "application/vnd.jupyter.widget-view+json": {
       "model_id": "793303d2378549a9a1baa9a0c50587ef",
       "version_major": 2,
       "version_minor": 0
      },
      "text/plain": [
       "interactive(children=(FloatSlider(value=0.241, description='w', max=0.5, min=0.001, step=0.01), Output()), _do…"
      ]
     },
     "metadata": {},
     "output_type": "display_data"
    }
   ],
   "source": [
    "pca = preprocess_pca(data, 'Outcome')\n",
    "iforest_visual()"
   ]
  },
  {
   "cell_type": "code",
   "execution_count": 73,
   "metadata": {},
   "outputs": [
    {
     "name": "stdout",
     "output_type": "stream",
     "text": [
      "not\n"
     ]
    }
   ],
   "source": [
    "from pandas.api.types import is_numeric_dtype\n",
    "if not is_numeric_dtype(data['BMI']):\n",
    "    print(\"hi\")\n",
    "else:\n",
    "    print(\"not\")"
   ]
  },
  {
   "cell_type": "code",
   "execution_count": 8,
   "metadata": {},
   "outputs": [],
   "source": [
    "data = pd.read_csv(r\"C:\\Users\\srava\\Desktop\\diabetes.csv\")"
   ]
  },
  {
   "cell_type": "code",
   "execution_count": 17,
   "metadata": {},
   "outputs": [
    {
     "data": {
      "text/html": [
       "<div>\n",
       "<style scoped>\n",
       "    .dataframe tbody tr th:only-of-type {\n",
       "        vertical-align: middle;\n",
       "    }\n",
       "\n",
       "    .dataframe tbody tr th {\n",
       "        vertical-align: top;\n",
       "    }\n",
       "\n",
       "    .dataframe thead th {\n",
       "        text-align: right;\n",
       "    }\n",
       "</style>\n",
       "<table border=\"1\" class=\"dataframe\">\n",
       "  <thead>\n",
       "    <tr style=\"text-align: right;\">\n",
       "      <th></th>\n",
       "      <th>pca0</th>\n",
       "      <th>pca1</th>\n",
       "      <th>Outcome</th>\n",
       "      <th>iso_forest_outliers</th>\n",
       "    </tr>\n",
       "  </thead>\n",
       "  <tbody>\n",
       "    <tr>\n",
       "      <th>395</th>\n",
       "      <td>194.624932</td>\n",
       "      <td>15.561914</td>\n",
       "      <td>0</td>\n",
       "      <td>-1</td>\n",
       "    </tr>\n",
       "    <tr>\n",
       "      <th>59</th>\n",
       "      <td>61.888421</td>\n",
       "      <td>23.922089</td>\n",
       "      <td>0</td>\n",
       "      <td>1</td>\n",
       "    </tr>\n",
       "    <tr>\n",
       "      <th>411</th>\n",
       "      <td>95.622141</td>\n",
       "      <td>18.614363</td>\n",
       "      <td>0</td>\n",
       "      <td>1</td>\n",
       "    </tr>\n",
       "    <tr>\n",
       "      <th>290</th>\n",
       "      <td>-42.542880</td>\n",
       "      <td>36.489431</td>\n",
       "      <td>0</td>\n",
       "      <td>1</td>\n",
       "    </tr>\n",
       "    <tr>\n",
       "      <th>178</th>\n",
       "      <td>-77.594027</td>\n",
       "      <td>-35.573815</td>\n",
       "      <td>0</td>\n",
       "      <td>1</td>\n",
       "    </tr>\n",
       "    <tr>\n",
       "      <th>...</th>\n",
       "      <td>...</td>\n",
       "      <td>...</td>\n",
       "      <td>...</td>\n",
       "      <td>...</td>\n",
       "    </tr>\n",
       "    <tr>\n",
       "      <th>78</th>\n",
       "      <td>-80.191304</td>\n",
       "      <td>-10.744602</td>\n",
       "      <td>1</td>\n",
       "      <td>1</td>\n",
       "    </tr>\n",
       "    <tr>\n",
       "      <th>763</th>\n",
       "      <td>99.573986</td>\n",
       "      <td>25.024062</td>\n",
       "      <td>0</td>\n",
       "      <td>1</td>\n",
       "    </tr>\n",
       "    <tr>\n",
       "      <th>687</th>\n",
       "      <td>-80.740409</td>\n",
       "      <td>7.778798</td>\n",
       "      <td>0</td>\n",
       "      <td>1</td>\n",
       "    </tr>\n",
       "    <tr>\n",
       "      <th>312</th>\n",
       "      <td>19.743157</td>\n",
       "      <td>-32.255858</td>\n",
       "      <td>1</td>\n",
       "      <td>-1</td>\n",
       "    </tr>\n",
       "    <tr>\n",
       "      <th>13</th>\n",
       "      <td>767.395105</td>\n",
       "      <td>6.933594</td>\n",
       "      <td>1</td>\n",
       "      <td>-1</td>\n",
       "    </tr>\n",
       "  </tbody>\n",
       "</table>\n",
       "<p>768 rows × 4 columns</p>\n",
       "</div>"
      ],
      "text/plain": [
       "           pca0       pca1  Outcome  iso_forest_outliers\n",
       "395  194.624932  15.561914        0                   -1\n",
       "59    61.888421  23.922089        0                    1\n",
       "411   95.622141  18.614363        0                    1\n",
       "290  -42.542880  36.489431        0                    1\n",
       "178  -77.594027 -35.573815        0                    1\n",
       "..          ...        ...      ...                  ...\n",
       "78   -80.191304 -10.744602        1                    1\n",
       "763   99.573986  25.024062        0                    1\n",
       "687  -80.740409   7.778798        0                    1\n",
       "312   19.743157 -32.255858        1                   -1\n",
       "13   767.395105   6.933594        1                   -1\n",
       "\n",
       "[768 rows x 4 columns]"
      ]
     },
     "execution_count": 17,
     "metadata": {},
     "output_type": "execute_result"
    }
   ],
   "source": [
    "pca"
   ]
  }
 ],
 "metadata": {
  "kernelspec": {
   "display_name": "Python 3",
   "language": "python",
   "name": "python3"
  },
  "language_info": {
   "codemirror_mode": {
    "name": "ipython",
    "version": 3
   },
   "file_extension": ".py",
   "mimetype": "text/x-python",
   "name": "python",
   "nbconvert_exporter": "python",
   "pygments_lexer": "ipython3",
   "version": "3.11.6"
  }
 },
 "nbformat": 4,
 "nbformat_minor": 2
}
